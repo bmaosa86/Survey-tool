{
 "cells": [
  {
   "cell_type": "code",
   "execution_count": null,
   "id": "d093faf5-dafb-454b-9b98-798eaac3970c",
   "metadata": {},
   "outputs": [
    {
     "name": "stdout",
     "output_type": "stream",
     "text": [
      " * Serving Flask app '__main__'\n",
      " * Debug mode: on\n"
     ]
    },
    {
     "name": "stderr",
     "output_type": "stream",
     "text": [
      "WARNING: This is a development server. Do not use it in a production deployment. Use a production WSGI server instead.\n",
      " * Running on http://127.0.0.1:5000\n",
      "Press CTRL+C to quit\n"
     ]
    }
   ],
   "source": [
    "import os\n",
    "import nest_asyncio\n",
    "from flask import Flask, request, render_template, jsonify\n",
    "from pymongo import MongoClient\n",
    "\n",
    "# Allow Flask to work properly in Jupyter Notebooks\n",
    "nest_asyncio.apply()\n",
    "\n",
    "app = Flask(__name__)\n",
    "\n",
    "# MongoDB connection\n",
    "client = MongoClient('mongodb://localhost:27017/')\n",
    "db = client['survey_db']\n",
    "collection = db['responses']\n",
    "\n",
    "@app.route('/')\n",
    "def home():\n",
    "    # Print the directory Flask is searching for templates\n",
    "    print(\"Looking for templates in:\", app.jinja_loader.searchpath)\n",
    "    return render_template('index.html')\n",
    "\n",
    "@app.route('/submit', methods=['POST'])\n",
    "def submit():\n",
    "    try:\n",
    "        age = int(request.form['age'])\n",
    "        gender = request.form['gender']\n",
    "        total_income = float(request.form['income'])\n",
    "        utilities = float(request.form.get('utilities', 0))\n",
    "        entertainment = float(request.form.get('entertainment', 0))\n",
    "        school_fees = float(request.form.get('school_fees', 0))\n",
    "        shopping = float(request.form.get('shopping', 0))\n",
    "        healthcare = float(request.form.get('healthcare', 0))\n",
    "\n",
    "        collection.insert_one({\n",
    "            'Age': age,\n",
    "            'Gender': gender,\n",
    "            'Total Income': total_income,\n",
    "            'Utilities': utilities,\n",
    "            'Entertainment': entertainment,\n",
    "            'School Fees': school_fees,\n",
    "            'Shopping': shopping,\n",
    "            'Healthcare': healthcare\n",
    "        })\n",
    "\n",
    "        return jsonify({\"message\": \"Data submitted successfully!\"}), 200\n",
    "\n",
    "    except KeyError as e:\n",
    "        return jsonify({\"error\": f\"Missing required field: {str(e)}\"}), 400\n",
    "    except ValueError as e:\n",
    "        return jsonify({\"error\": f\"Invalid input value: {str(e)}\"}), 400\n",
    "    except Exception as e:\n",
    "        return jsonify({\"error\": f\"An unexpected error occurred: {str(e)}\"}), 500\n",
    "\n",
    "if __name__ == '__main__':\n",
    "    app.run(port=5000, use_reloader=False, debug=True)\n"
   ]
  },
  {
   "cell_type": "code",
   "execution_count": null,
   "id": "a8003ed0-afc4-4695-99bc-e93aeb2611e8",
   "metadata": {},
   "outputs": [],
   "source": []
  }
 ],
 "metadata": {
  "kernelspec": {
   "display_name": "Python 3 (ipykernel)",
   "language": "python",
   "name": "python3"
  },
  "language_info": {
   "codemirror_mode": {
    "name": "ipython",
    "version": 3
   },
   "file_extension": ".py",
   "mimetype": "text/x-python",
   "name": "python",
   "nbconvert_exporter": "python",
   "pygments_lexer": "ipython3",
   "version": "3.12.5"
  }
 },
 "nbformat": 4,
 "nbformat_minor": 5
}
